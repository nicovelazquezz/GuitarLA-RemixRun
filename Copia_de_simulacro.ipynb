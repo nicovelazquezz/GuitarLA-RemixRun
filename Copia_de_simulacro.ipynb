{
  "cells": [
    {
      "cell_type": "markdown",
      "metadata": {
        "id": "view-in-github",
        "colab_type": "text"
      },
      "source": [
        "<a href=\"https://colab.research.google.com/github/nicovelazquezz/GuitarLA-RemixRun/blob/master/Copia_de_simulacro.ipynb\" target=\"_parent\"><img src=\"https://colab.research.google.com/assets/colab-badge.svg\" alt=\"Open In Colab\"/></a>"
      ]
    },
    {
      "cell_type": "markdown",
      "source": [
        "# Código de inicialización\n",
        "Este código permite inicializar las bibliotecas para usar SQLite en la máquina virtual de Google Colab. El código además elimina cualquier dato almacenado anteriormente en el archvio `ejemplos.db`. Es recomendable volver a correr el código cada vez que se comience con la resolución de un nuevo ejercicio."
      ],
      "metadata": {
        "id": "QuMn1Lbbdz7p"
      },
      "id": "QuMn1Lbbdz7p"
    },
    {
      "cell_type": "code",
      "source": [
        "!pip install pymysql\n",
        "%load_ext sql\n",
        "!rm -rf ejemplos.db\n",
        "%sql sqlite:///ejemplos.db"
      ],
      "metadata": {
        "id": "DRIupxipNuoC"
      },
      "id": "DRIupxipNuoC",
      "execution_count": null,
      "outputs": []
    },
    {
      "cell_type": "markdown",
      "source": [
        "# SIMULACRO DE PARCIAL"
      ],
      "metadata": {
        "id": "cVK-sijYVIH5"
      },
      "id": "cVK-sijYVIH5"
    },
    {
      "cell_type": "markdown",
      "metadata": {
        "id": "NsVx4_K4NiXp"
      },
      "source": [
        "## Venta de pasajes aéreos ✈️\n",
        "\n",
        "El esquema de la base de datos debe incluir las siguientes dos tablas con sus respectivos campos:\n",
        "\n",
        "1. **Vuelos**\n",
        "   - `VueloID` (INTEGER, PRIMARY KEY, AUTOINCREMENT)\n",
        "   - `Aerolinea` (TEXT, NOT NULL)\n",
        "   - `Destino` (TEXT, NOT NULL)\n",
        "   - `Precio` (REAL, NOT NULL)\n",
        "\n",
        "2. **Reservas**\n",
        "   - `ReservaID` (INTEGER, PRIMARY KEY, AUTOINCREMENT)\n",
        "   - `VueloID` (INTEGER, FOREIGN KEY → Vuelos.VueloID)\n",
        "   - `Pasajero` (TEXT, NOT NULL)\n",
        "   - `Estado` (TEXT, NOT NULL) *(Valores permitidos: 'Confirmada', 'Cancelada', 'Pendiente')*\n",
        "\n",
        "#### 3.2. **Reglas y Restricciones**\n",
        "\n",
        "- **Integridad Referencial:** `VueloID` en la tabla `Reservas` debe corresponder a un `VueloID` existente en la tabla `Vuelos`.\n",
        "- **Estados de Reservas:** Limitar los valores del campo `Estado` a 'Confirmada', 'Cancelada' y 'Pendiente'.\n",
        "- **Datos Validados:** Asegurar que los campos obligatorios no queden vacíos y que los formatos de datos sean correctos."
      ],
      "id": "NsVx4_K4NiXp"
    },
    {
      "cell_type": "code",
      "execution_count": null,
      "metadata": {
        "id": "k5xOpu04NiXr"
      },
      "outputs": [],
      "source": [
        "%%sql\n",
        "-- Escribe aquí el código DDL para crear las tablas Vuelos y Reservas\n",
        "create table Vuelos(\n",
        "  VueloID INTEGER PRIMARY KEY AUTOINCREMENT,\n",
        "  Aerolinea TEXT NOT NULL,\n",
        "  Destino TEXT NOT NULL,\n",
        "  Precio REAL NOT NULL\n",
        ");\n",
        "create table Reservas(\n",
        "  ReservaID INTEGER PRIMARY KEY AUTOINCREMENT,\n",
        "  VueloID INTEGER,\n",
        "  Pasajero TEXT NOT NULL,\n",
        "  Estado TEXT NOT NULL,\n",
        "  FOREIGN KEY (VueloID) REFERENCES Vuelos(VueloID)\n",
        ");"
      ],
      "id": "k5xOpu04NiXr"
    },
    {
      "cell_type": "markdown",
      "metadata": {
        "id": "im4yKrVtNiXt"
      },
      "source": [
        "**Rellenado de la tabla Ventas**\n",
        "\n"
      ],
      "id": "im4yKrVtNiXt"
    },
    {
      "cell_type": "code",
      "execution_count": null,
      "id": "71b6196d",
      "metadata": {
        "id": "71b6196d"
      },
      "outputs": [],
      "source": [
        "# Población de la tabla Ventas\n",
        "# Insertar datos en la tabla Ventas\n",
        "%%sql\n",
        "\n",
        "\n",
        "INSERT INTO Vuelos (Aerolinea, Destino, Precio) VALUES\n",
        "('Aerolínea A', 'Ciudad X', 150.0),\n",
        "('Aerolínea B', 'Ciudad Y', 200.0),\n",
        "('Aerolínea A', 'Ciudad Z', 180.0),\n",
        "('Aerolínea C', 'Ciudad X', 220.0),\n",
        "('Aerolínea B', 'Ciudad W', 170.0),\n",
        "('Aerolínea D', 'Ciudad Y', 160.0),\n",
        "('Aerolínea E', 'Ciudad Z', 190.0),\n",
        "('Aerolínea C', 'Ciudad W', 210.0),\n",
        "('Aerolínea D', 'Ciudad X', 175.0),\n",
        "('Aerolínea E', 'Ciudad Y', 205.0),\n",
        "('Aerolínea A', 'Ciudad W', 165.0),\n",
        "('Aerolínea B', 'Ciudad X', 185.0),\n",
        "('Aerolínea C', 'Ciudad Y', 195.0),\n",
        "('Aerolínea D', 'Ciudad Z', 225.0),\n",
        "('Aerolínea E', 'Ciudad W', 230.0);\n",
        "\n",
        "INSERT INTO Reservas (VueloID, Pasajero, Estado) VALUES\n",
        "-- Pasajeros con múltiples reservas a diferentes destinos\n",
        "(1, 'Juan Pérez', 'Confirmada'),\n",
        "(2, 'María Gómez', 'Pendiente'),\n",
        "(1, 'Juan Pérez', 'Confirmada'),\n",
        "(3, 'Ana Martínez', 'Confirmada'),\n",
        "(5, 'Ana Martínez', 'Confirmada'),\n",
        "(4, 'Elena Sánchez', 'Pendiente'),\n",
        "(5, 'Pedro García', 'Confirmada'),\n",
        "(3, 'Lucía Fernández', 'Confirmada'),\n",
        "(4, 'Miguel Díaz', 'Cancelada'),\n",
        "(5, 'Sofía Ramírez', 'Confirmada'),\n",
        "(6, 'Diego Torres', 'Confirmada'),\n",
        "(7, 'Laura Morales', 'Pendiente'),\n",
        "(8, 'Andrés Castillo', 'Confirmada'),\n",
        "(6, 'Paula Reyes', 'Confirmada'),\n",
        "(9, 'Fernando Blanco', 'Cancelada'),\n",
        "(10, 'Isabel Cruz', 'Confirmada'),\n",
        "(11, 'Ricardo Vargas', 'Confirmada'),\n",
        "(12, 'Daniela Soto', 'Pendiente'),\n",
        "(13, 'Gabriel Rojas', 'Confirmada'),\n",
        "(14, 'Valentina Ruiz', 'Confirmada'),\n",
        "(15, 'Sergio Herrera', 'Cancelada'),\n",
        "(16, 'Patricia Molina', 'Confirmada'),\n",
        "(17, 'Patricia Molina', 'Confirmada'),\n",
        "(18, 'Jorge Vargas', 'Confirmada'),\n",
        "(19, 'Mónica Bravo', 'Pendiente'),\n",
        "(20, 'Fernando Paredes', 'Confirmada'),\n",
        "(21, 'Natalia González', 'Confirmada');\n",
        "\n"
      ]
    },
    {
      "cell_type": "markdown",
      "metadata": {
        "id": "622zROEDNiXt"
      },
      "source": [
        "**Consignas del ejercicio:**\n",
        "\n",
        "1. **Obtener el Número de Reservas Confirmadas por Aerolínea:**\n",
        "   - **Descripción:** Contar cuántas reservas están confirmadas para cada aerolínea.\n",
        "   - **Consulta:**\n"
      ],
      "id": "622zROEDNiXt"
    },
    {
      "cell_type": "code",
      "execution_count": null,
      "metadata": {
        "id": "zuIw9B9UNiXu",
        "colab": {
          "base_uri": "https://localhost:8080/"
        },
        "outputId": "e1ac75ea-3dde-4611-9386-d6b7dcefd83a"
      },
      "outputs": [
        {
          "output_type": "stream",
          "name": "stderr",
          "text": [
            "UsageError: Cell magic `%%sql` not found.\n"
          ]
        }
      ],
      "source": [
        "%%sql\n"
      ],
      "id": "zuIw9B9UNiXu"
    },
    {
      "cell_type": "markdown",
      "id": "b96bb132",
      "metadata": {
        "id": "b96bb132"
      },
      "source": [
        "2. **Listar las Aerolíneas con Más de 2 Reservas Confirmadas:**\n",
        "   - **Descripción:** Identificar las aerolíneas que tienen más de dos reservas confirmadas. El resultado debe mostrarse en orden descendente según la cantidad de reservas.\n",
        "   - **Consulta:**"
      ]
    },
    {
      "cell_type": "code",
      "execution_count": null,
      "metadata": {
        "id": "ACqNMaDGNiXu"
      },
      "outputs": [],
      "source": [
        "%%sql\n"
      ],
      "id": "ACqNMaDGNiXu"
    },
    {
      "cell_type": "markdown",
      "id": "7a6a43fe",
      "metadata": {
        "id": "7a6a43fe"
      },
      "source": [
        "3. **Calcular el Ingreso Total por Aerolínea a partir de Reservas Confirmadas:**\n",
        "   - **Descripción:** Sumar los precios de los vuelos que tienen reservas confirmadas para cada aerolínea.\n",
        "   - **Consulta:**"
      ]
    },
    {
      "cell_type": "code",
      "execution_count": null,
      "metadata": {
        "id": "kzhBe0qENiXv"
      },
      "outputs": [],
      "source": [
        "%%sql\n"
      ],
      "id": "kzhBe0qENiXv"
    },
    {
      "cell_type": "markdown",
      "source": [
        "4. **Encontrar Destinos con Más de 1 Reserva Confirmada:**\n",
        "   - **Descripción:** Identificar los destinos que tienen más de una reserva confirmada.\n",
        "   - **Consulta:**"
      ],
      "metadata": {
        "id": "prbBoM2yN1XT"
      },
      "id": "prbBoM2yN1XT"
    },
    {
      "cell_type": "code",
      "source": [
        "%%sql\n"
      ],
      "metadata": {
        "id": "IL21G5AzN5Mk"
      },
      "id": "IL21G5AzN5Mk",
      "execution_count": null,
      "outputs": []
    },
    {
      "cell_type": "markdown",
      "source": [
        "5. **Obtener la Aerolínea con el Mayor Ingreso Total**\n",
        "\n",
        "- **Descripción:** Identificar qué aerolínea ha generado el mayor ingreso total a partir de reservas confirmadas.\n",
        "- **Consulta:**"
      ],
      "metadata": {
        "id": "KmQF_pN5RUtF"
      },
      "id": "KmQF_pN5RUtF"
    },
    {
      "cell_type": "code",
      "source": [
        "%%sql\n"
      ],
      "metadata": {
        "id": "zrpwm47sRgUi"
      },
      "id": "zrpwm47sRgUi",
      "execution_count": null,
      "outputs": []
    },
    {
      "cell_type": "markdown",
      "source": [
        "6. **Listar los Pasajeros con Reservas en Más de un Destino**\n",
        "\n",
        "- **Descripción:** Identificar a los pasajeros que han reservado vuelos a más de un destino diferente.\n",
        "- **Consulta:**"
      ],
      "metadata": {
        "id": "LZNQH-AmRpw1"
      },
      "id": "LZNQH-AmRpw1"
    },
    {
      "cell_type": "code",
      "source": [
        "%%sql\n"
      ],
      "metadata": {
        "id": "brNuPzKgRpg4"
      },
      "id": "brNuPzKgRpg4",
      "execution_count": null,
      "outputs": []
    },
    {
      "cell_type": "markdown",
      "source": [
        "7. **Determinar el Destino Más Popular**\n",
        "\n",
        "- **Descripción:** Encontrar el destino con el mayor número de reservas confirmadas.\n",
        "- **Consulta:**"
      ],
      "metadata": {
        "id": "JZeL0ZaRRzHH"
      },
      "id": "JZeL0ZaRRzHH"
    },
    {
      "cell_type": "code",
      "source": [
        "%%sql\n"
      ],
      "metadata": {
        "id": "bB0_bMk8R0lq"
      },
      "id": "bB0_bMk8R0lq",
      "execution_count": null,
      "outputs": []
    },
    {
      "cell_type": "markdown",
      "source": [
        "8. **Calcular el Promedio de Precio por Aerolínea**\n",
        "\n",
        "- **Descripción:** Calcular el precio promedio de los vuelos para cada aerolínea.\n",
        "- **Consulta:**"
      ],
      "metadata": {
        "id": "b9D5lDOUSTMx"
      },
      "id": "b9D5lDOUSTMx"
    },
    {
      "cell_type": "code",
      "source": [
        "%%sql\n"
      ],
      "metadata": {
        "id": "3Xw19qIJSVYz"
      },
      "id": "3Xw19qIJSVYz",
      "execution_count": null,
      "outputs": []
    },
    {
      "cell_type": "markdown",
      "source": [
        "Al finalizar el trabajo práctico, deberás entregar:\n",
        "\n",
        "1. **Jupyter Notebook** completo con todas las celdas ejecutadas y resultados visibles. Deberá descargar el archivo ```.ipynb``` en su computadora y subirlo a la tarea del aula virtual.\n",
        "2. **Diagrama Esquena de Tablas**. Debe descargar una imagen del diagrama u subirla a la tarea-\n",
        "\n",
        "### **Criterios de Evaluación**\n",
        "\n",
        "El trabajo práctico será evaluado en función de los siguientes aspectos:\n",
        "\n",
        "- **Diseño del Esquema de la Base de Datos (30%)**\n",
        "  - Correcta definición de las dos tablas.\n",
        "  - Adecuada implementación de claves primarias y foráneas.\n",
        "  - Implementación de restricciones y reglas de integridad.\n",
        "\n",
        "\n",
        "- **Consultas SQL (70%)**\n",
        "  - Correcta ejecución de las consultas solicitadas utilizando `JOIN`, `GROUP BY` y `HAVING`.\n",
        "  - Capacidad para extraer información relevante del sistema.\n"
      ],
      "metadata": {
        "id": "fXEH_UMFOLip"
      },
      "id": "fXEH_UMFOLip"
    }
  ],
  "metadata": {
    "colab": {
      "provenance": [],
      "include_colab_link": true
    },
    "kernelspec": {
      "display_name": "Python 3",
      "name": "python3"
    },
    "language_info": {
      "name": "python"
    }
  },
  "nbformat": 4,
  "nbformat_minor": 5
}